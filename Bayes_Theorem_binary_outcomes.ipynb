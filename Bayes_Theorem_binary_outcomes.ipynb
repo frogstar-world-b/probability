{
 "cells": [
  {
   "cell_type": "markdown",
   "metadata": {},
   "source": [
    "## Coin Tosses\n",
    "A jar has 1000 coins, of which 999 are fair and 1 is double-headed. Pick a coin at random, and toss it 10 times. Given that you see 10 heads, what is the probability that the next toss of that coin is also a head? Give your answer to 3 significant figures.\n",
    "\n",
    "Let $D$ be the event that the double-headed coin was picked, and let $F$ be the event that the fair coin was picked\n",
    "\n",
    "$p(D) = 1/1000$\n",
    "$p(F) = 999/1000$\n",
    "\n",
    "Apply Bayes Theorem to calculate the posterior probabilities of each event,\n",
    "\n",
    "$$P(D|data) = \\frac{p(Data|D)\\times P(D)}{p(Data|D)\\times P(D) + p(Data|F)\\times P(F)}$$\n",
    "\n",
    "$$P(F|data) = \\frac{p(Data|F)\\times P(F)}{p(Data|F)\\times P(F) + p(Data|D)\\times P(D)}$$\n",
    "\n",
    "The previous two formulas show that $P(F|data) = 1-P(D|data)$\n",
    "\n",
    "Here the data is ten coin tosses resulting in 10 heads.     \n",
    "Therefore, \n",
    "$p(Data|D) = 1^{10} = 1 $  and  $ p(Data|F) = (0.5)^{10} \\approx 0.00098$.\n",
    "\n",
    "Thus, we have all the ingredients to calculate the two posteriors. Next, we need to calculate the probability of getting a head on the 11th toss, which we will do using the law of total probability.\n",
    "\n",
    "$$p(H) = p(H|D)p(D|data) + p(H|F)(F|data)$$\n"
   ]
  },
  {
   "cell_type": "code",
   "execution_count": 1,
   "metadata": {
    "collapsed": true
   },
   "outputs": [],
   "source": [
    "class BayesCoinToss:\n",
    "    \"\"\"Obtains posterior probability of a coin.\"\"\"\n",
    "    \n",
    "    def __init__(self, prior1, prob_head1, prob_head2, n_heads, n_tails):\n",
    "        \"\"\" prior1, prob_head1, and prob_head2 must be in [0, 1].\n",
    "        n_heads and n_tails must be non-negative\"\"\"\n",
    "        if prior1 < 0 or prior1 > 1:\n",
    "            raise ValueError('The prior must be in [0, 1].')\n",
    "        if (prob_head1 < 0 or prob_head1 > 1) or \\\n",
    "           (prob_head2 < 0 or prob_head2 > 1):\n",
    "            raise ValueError('prob(head) must be in [0, 1].')\n",
    "        if type(n_heads) != int or type(n_tails) != int:\n",
    "            raise TypeError('Number of heads or tails must be of type int.')\n",
    "        if n_heads < 0 or n_tails < 0:\n",
    "            raise ValueError('Number of heads or tails must be positive')\n",
    "        self.prior1 = prior1\n",
    "        self.prior2 = 1 - prior1\n",
    "        self.prob_head1 = prob_head1\n",
    "        self.prob_head2 = prob_head2\n",
    "        self.n_heads = n_heads\n",
    "        self.n_tails = n_tails\n",
    "        \n",
    "    def get_likelihood(self):\n",
    "        self.likelihood1 = self.prob_head1**self.n_heads * \\\n",
    "                           (1 - self.prob_head1)**self.n_tails\n",
    "        self.likelihood2 = self.prob_head2**self.n_heads * \\\n",
    "                           (1 - self.prob_head2)**self.n_tails\n",
    "        return self.likelihood1, self.likelihood2\n",
    "    \n",
    "    def get_posterior(self):\n",
    "        if hasattr(self, 'likelihood1'): \n",
    "            term1 = self.likelihood1 * self.prior1\n",
    "            term2 = self.likelihood2 * self.prior2\n",
    "            self.posterior1 = term1 / (term1 + term2)\n",
    "            return self.posterior1\n",
    "        else:\n",
    "            raise AttributeError('please calculate the likelihoods first!')\n",
    "    \n",
    "    def get_prob_head_next_toss(self):\n",
    "        if hasattr(self, 'poststerior1'):\n",
    "            prob_head_next_toss = self.prob_head1 * self.posterior1 + \\\n",
    "                                  self.prob_head2 * (1 - self.posterior1)\n",
    "            return prob_head_next_toss\n",
    "        else:\n",
    "            raise AttributeError('Please calculate the posterior first!')\n"
   ]
  },
  {
   "cell_type": "code",
   "execution_count": 2,
   "metadata": {},
   "outputs": [
    {
     "name": "stdout",
     "output_type": "stream",
     "text": [
      "p(D), p(H|D), p(data|D): (0.001, 1, 1)\n",
      "p(F), p(H|F), p(data|F): (0.999, 0.5, 0.0009765625)\n",
      "p(D|data) = 0.5061789421651013\n",
      "Probability of a head on next toss = 0.7530894710825506\n"
     ]
    }
   ],
   "source": [
    "PRIOR1 = .001\n",
    "PROB_HEAD1 = 1\n",
    "PROB_HEAD2 = .5\n",
    "N_HEADS = 10\n",
    "N_TAILS = 0\n",
    "\n",
    "# BayesCoinToss(prior1, prob_head1, prob_head2, n_heads, n_tails)\n",
    "bayes = BayesCoinToss(PRIOR1, PROB_HEAD1, PROB_HEAD2, \n",
    "                      N_HEADS, N_TAILS)\n",
    "L1, L2 = bayes.get_likelihood()\n",
    "posterior = bayes.get_posterior()\n",
    "\n",
    "print('p(D), p(H|D), p(data|D):', \n",
    "      (bayes.prior1, bayes.prob_head1, bayes.likelihood1))\n",
    "print('p(F), p(H|F), p(data|F):',\n",
    "      (bayes.prior2, bayes.prob_head2, bayes.likelihood2))\n",
    "print('p(D|data) =', posterior)\n",
    "prob_head_given_data = PROB_HEAD1 * posterior + PROB_HEAD2 * (1 - posterior)\n",
    "print('Probability of a head on next toss =', prob_head_given_data)"
   ]
  },
  {
   "cell_type": "code",
   "execution_count": 3,
   "metadata": {},
   "outputs": [
    {
     "name": "stdout",
     "output_type": "stream",
     "text": [
      "When no data have been observed, the posterior is the prior!\n",
      "p(D), p(H|D), p(data|D): (0.001, 1, 1)\n",
      "p(F), p(H|F), p(data|F): (0.999, 0.5, 1.0)\n",
      "p(D|data) = 0.001\n"
     ]
    }
   ],
   "source": [
    "# test the function under no observations assumption\n",
    "PRIOR1 = .001\n",
    "PROB_HEAD1 = 1\n",
    "PROB_HEAD2 = .5\n",
    "N_HEADS = 0\n",
    "N_TAILS = 0\n",
    "\n",
    "# BayesCoinToss(prior1, prob_head1, prob_head2, n_heads, n_tails)\n",
    "bayes = BayesCoinToss(PRIOR1, PROB_HEAD1, PROB_HEAD2, \n",
    "                      N_HEADS, N_TAILS)\n",
    "L1, L2 = bayes.get_likelihood()\n",
    "posterior = bayes.get_posterior()\n",
    "print('When no data have been observed, the posterior is the prior!')\n",
    "print('p(D), p(H|D), p(data|D):', \n",
    "      (bayes.prior1, bayes.prob_head1, bayes.likelihood1))\n",
    "print('p(F), p(H|F), p(data|F):',\n",
    "      (bayes.prior2, bayes.prob_head2, bayes.likelihood2))\n",
    "print('p(D|data) =', posterior)\n"
   ]
  },
  {
   "cell_type": "code",
   "execution_count": 4,
   "metadata": {},
   "outputs": [
    {
     "name": "stdout",
     "output_type": "stream",
     "text": [
      "When both coins are fair and the priors are equal,\n",
      "the posterior is 0.5\n",
      "p(D), p(H|D), p(data|D): (0.5, 0.5, 0.5)\n",
      "p(F), p(H|F), p(data|F): (0.5, 0.5, 0.5)\n",
      "p(D|data) = 0.5\n"
     ]
    }
   ],
   "source": [
    "# test the function under equal priors and two fair coins\n",
    "PRIOR1 = .5\n",
    "PROB_HEAD1 = .5\n",
    "PROB_HEAD2 = .5\n",
    "N_HEADS = 1\n",
    "N_TAILS = 0\n",
    "\n",
    "# BayesCoinToss(prior1, prob_head1, prob_head2, n_heads, n_tails)\n",
    "bayes = BayesCoinToss(PRIOR1, PROB_HEAD1, PROB_HEAD2, \n",
    "                      N_HEADS, N_TAILS)\n",
    "L1, L2 = bayes.get_likelihood()\n",
    "posterior = bayes.get_posterior()\n",
    "print('When both coins are fair and the priors are equal,\\nthe posterior is 0.5')\n",
    "print('p(D), p(H|D), p(data|D):', \n",
    "      (bayes.prior1, bayes.prob_head1, bayes.likelihood1))\n",
    "print('p(F), p(H|F), p(data|F):',\n",
    "      (bayes.prior2, bayes.prob_head2, bayes.likelihood2))\n",
    "print('p(D|data) =', posterior)\n"
   ]
  },
  {
   "cell_type": "markdown",
   "metadata": {},
   "source": [
    "## Should I bring an Umbrella to Seattle?\n",
    "\n",
    "You're about to get on a plane to Seattle. You want to know  if you should bring an umbrella. You call 3 random friends of yours who live there and ask each independently if it's raining. Each of your friends has a 2/3 chance of telling you the truth and a 1/3 chance of messing with you by lying. All 3 friends tell you that \"Yes\" it is raining. What is the probability that it's actually raining in Seattle?\n",
    "\n",
    "$p(yes|~\\text{rain}) = 2/3$\n",
    "$p(yes|~\\text{no rain}) = 1/3$\n",
    "\n",
    "$$p(\\text{rain}|~ yes, yes, yes)  = \\frac{p(yes, yes, yes |~ \\text{rain}) \\times p(\\text{rain})}{p(yes, yes, yes)}\\\\\n",
    "= \\frac{p(yes, yes, yes |~ rain) \\times p(\\text{rain})}{p(yes, yes, yes |~ rain) p(\\text{rain}) + p(yes, yes, yes |~ \\text{no rain}) p(\\text{no rain})}$$\n",
    " \n",
    "$$= \\frac{(2/3) (2/3) (2/3)\\times p(\\text{rain})}{(2/3) (2/3) (2/3)\\times p(\\text{rain}) + (1/3) (1/3) (1/3)\\times p(\\text{no rain})} \\\\\n",
    "=\\frac{(8/27)\\times p(\\text{rain})}{(8/27)\\times p(\\text{rain}) + (1/27)\\times p(\\text{no rain})}$$\n",
    "\n",
    "Suppose that rain/no rain is a 50-50 chance type of a scenario. Thus $p(\\text{rain}) = p(\\text{no rain}) = 0.5$. Thus,\n",
    "\n",
    "$$p(\\text{rain}|~ yes, yes, yes) = \\frac{(8/27)(1/2)}{(8/27)(1/2) + (1/27)(1/2)} = \\frac{(8/27)}{(9/27)} = \\frac{8}{9} = 0.888\\dots$$\n",
    "\n",
    "So given your friends' responses, you should bring an umbrella -- although it is not a bad idea to always bring one to Seattle."
   ]
  },
  {
   "cell_type": "code",
   "execution_count": 5,
   "metadata": {},
   "outputs": [
    {
     "name": "stdout",
     "output_type": "stream",
     "text": [
      "probability of rain given 3 yes's = 0.8888888888888888\n"
     ]
    }
   ],
   "source": [
    "# notice we can use BayesCoinToss since we have \n",
    "# a binary outcome (rain/no rain) \n",
    "\n",
    "PRIOR1 = 1/2\n",
    "PROB_HEAD1 = 2/3\n",
    "PROB_HEAD2 = 1/3\n",
    "N_HEADS = 3\n",
    "N_TAILS = 0\n",
    "\n",
    "bayes = BayesCoinToss(PRIOR1, PROB_HEAD1, PROB_HEAD2, \n",
    "                      N_HEADS, N_TAILS)\n",
    "L1, L2 = bayes.get_likelihood()\n",
    "posterior = bayes.get_posterior()\n",
    "print(\"probability of rain given\", N_HEADS, \"yes's =\", posterior)"
   ]
  }
 ],
 "metadata": {
  "kernelspec": {
   "display_name": "Python 3",
   "language": "python",
   "name": "python3"
  },
  "language_info": {
   "codemirror_mode": {
    "name": "ipython",
    "version": 3
   },
   "file_extension": ".py",
   "mimetype": "text/x-python",
   "name": "python",
   "nbconvert_exporter": "python",
   "pygments_lexer": "ipython3",
   "version": "3.6.3"
  }
 },
 "nbformat": 4,
 "nbformat_minor": 2
}
