{
 "cells": [
  {
   "cell_type": "markdown",
   "metadata": {},
   "source": [
    "## Coin Tosses\n",
    "A jar has 1000 coins, of which 999 are fair and 1 is double-headed. Pick a coin at random, and toss it 10 times. Given that you see 10 heads, what is the probability that the next toss of that coin is also a head? Give your answer to 3 significant figures.\n",
    "\n",
    "Let $D$ be the event that the double-headed coin was picked, and let $F$ be the event that the fair coin was picked\n",
    "\n",
    "$p(D) = 1/1000$\n",
    "$p(F) = 999/1000$\n",
    "\n",
    "Apply Bayes Theorem to calculate the posterior probabilities of each event,\n",
    "\n",
    "$$P(D|data) = \\frac{p(Data|D)\\times P(D)}{p(Data|D)\\times P(D) + p(Data|F)\\times P(F)}$$\n",
    "\n",
    "$$P(F|data) = \\frac{p(Data|F)\\times P(F)}{p(Data|F)\\times P(F) + p(Data|D)\\times P(D)}$$\n",
    "\n",
    "The previous two formulas show that $P(F|data) = 1-P(D|data)$\n",
    "\n",
    "Here the data is ten coin tosses resulting in 10 heads.     \n",
    "Therefore, \n",
    "$p(Data|D) = 1^{10} = 1 $  and  $ p(Data|F) = (0.5)^{10} \\approx 0.00098$.\n",
    "\n",
    "Thus, we have all the ingredients to calculate the two posteriors. Next, we need to calculate the probability of getting a head on the 11th toss, which we will do using the law of total probability.\n",
    "\n",
    "$$p(H) = p(H|D)p(D|data) + p(H|F)(F|data)$$\n"
   ]
  },
  {
   "cell_type": "code",
   "execution_count": 1,
   "metadata": {},
   "outputs": [
    {
     "name": "stdout",
     "output_type": "stream",
     "text": [
      "prob of Head on 2nd toss 0.5009990009990011\n",
      "prob of Head on 11th toss 0.7530894710825506\n"
     ]
    }
   ],
   "source": [
    "# Let's write some functions to get the answer.\n",
    "\n",
    "# prior that the coin is double-headed\n",
    "pD = 1/1000\n",
    "# probability of a head given double-headed coin\n",
    "p_head_D = 1\n",
    "# prior that the coin is fair\n",
    "pF = 999/1000\n",
    "# probability of a head given a fair coin\n",
    "p_head_F = .5\n",
    "\n",
    "def lik(p_head, n):\n",
    "    return p_head**n\n",
    "\n",
    "def posterior(likA, pA, likB, pB):\n",
    "    return likA * pA/(likA * pA + likB*pB)\n",
    "\n",
    "def head_n_plus_one(pHD, pD, pHF, pF, n):\n",
    "    likD, likF = lik(pHD, n), lik(pHF, n)\n",
    "    return pHD * posterior(likD, pD, likF, pF) + \\\n",
    "           pHF * posterior(likF, pF, likD, pD)\n",
    "\n",
    "print('prob of Head on 2nd toss', \n",
    "      head_n_plus_one(p_head_D, pD, p_head_F, pF, n=1))\n",
    "print('prob of Head on 11th toss', \n",
    "      head_n_plus_one(p_head_D, pD, p_head_F, pF, n=10))"
   ]
  },
  {
   "cell_type": "code",
   "execution_count": 2,
   "metadata": {
    "collapsed": true
   },
   "outputs": [],
   "source": [
    "# better yet, let's create a class \n",
    "\n",
    "class BayesCoinToss():\n",
    "    \"\"\"Calculates the posteior probability of a coin given \n",
    "    every toss returns a head, where:\n",
    "    - prior1, the prior probability \n",
    "    - prior2, the complement of prior1 (prior2 = 1 - prior1)\n",
    "    - prob_head1, the probability of obtaining a head given prior1 \n",
    "    - prob_head2, the probability of obtaining a head given prior2 \n",
    "    - number_of_flips, the number of coin flips\n",
    "    \n",
    "    While prior2 can be calculated from prior1, it is a good idea\n",
    "    to have both specified for disambiguation of the likelihoods.\n",
    "    \"\"\"\n",
    "    def __init__(self, prior1, prob_head1, prior2,\n",
    "                 prob_head2, number_of_flips):\n",
    "        self.prior1 = prior1\n",
    "        self.prob_head1 = prob_head1\n",
    "        self.prior2 = prior2\n",
    "        self.prob_head2 = prob_head2\n",
    "        self.n_flips = number_of_flips\n",
    "        # calculate the likelihoods (given each prior)\n",
    "        self.likelihood1 = prob_head1**number_of_flips\n",
    "        self.likelihood2 = prob_head2**number_of_flips\n",
    "    \n",
    "    def posterior(self):\n",
    "        \"\"\"Calculates the posterior probability of a head \n",
    "        given the data and the priors\n",
    "        \"\"\"\n",
    "        denominator = self.prior1*self.likelihood1 + self.prior2*self.likelihood2\n",
    "        self.posterior = self.prior1*self.likelihood1 / denominator\n",
    "        return self.posterior\n"
   ]
  },
  {
   "cell_type": "code",
   "execution_count": 3,
   "metadata": {},
   "outputs": [
    {
     "name": "stdout",
     "output_type": "stream",
     "text": [
      "p(D), p(H|D), p(data|D): (0.001, 1, 1)\n",
      "p(F), p(H|F), p(data|F): (0.999, 0.5, 0.0009765625)\n",
      "p(D|data) = 0.5061789421651013\n",
      "Probability of a head on next toss = 0.7530894710825506\n"
     ]
    }
   ],
   "source": [
    "PRIOR1 = .001\n",
    "PROB_HEAD1 = 1\n",
    "PRIOR2 = .999\n",
    "PROB_HEAD2 = .5\n",
    "N = 10\n",
    "\n",
    "bayes = BayesCoinToss(PRIOR1, PROB_HEAD1, PRIOR2, PROB_HEAD2, N)\n",
    "posterior = bayes.posterior()\n",
    "\n",
    "print('p(D), p(H|D), p(data|D):', \n",
    "      (bayes.prior1, bayes.prob_head1, bayes.likelihood1))\n",
    "print('p(F), p(H|F), p(data|F):',\n",
    "      (bayes.prior2, bayes.prob_head2, bayes.likelihood2))\n",
    "print('p(D|data) =', posterior)\n",
    "prob_head_given_data = PROB_HEAD1 * posterior + PROB_HEAD2 * (1 - posterior)\n",
    "print('Probability of a head on next toss =', prob_head_given_data)"
   ]
  },
  {
   "cell_type": "markdown",
   "metadata": {},
   "source": [
    "## Should I bring an Umbrella to Seattle?\n",
    "\n",
    "You're about to get on a plane to Seattle. You want to know  if you should bring an umbrella. You call 3 random friends of yours who live there and ask each independently if it's raining. Each of your friends has a 2/3 chance of telling you the truth and a 1/3 chance of messing with you by lying. All 3 friends tell you that \"Yes\" it is raining. What is the probability that it's actually raining in Seattle?\n",
    "\n",
    "$p(yes|~\\text{rain}) = 2/3$\n",
    "$p(yes|~\\text{no rain}) = 1/3$\n",
    "\n",
    "$$p(\\text{rain}|~ yes, yes, yes)  = \\frac{p(yes, yes, yes |~ \\text{rain}) \\times p(\\text{rain})}{p(yes, yes, yes)}\\\\\n",
    "= \\frac{p(yes, yes, yes |~ rain) \\times p(\\text{rain})}{p(yes, yes, yes |~ rain) p(\\text{rain}) + p(yes, yes, yes |~ \\text{no rain}) p(\\text{no rain})}$$\n",
    " \n",
    "$$= \\frac{(2/3) (2/3) (2/3)\\times p(\\text{rain})}{(2/3) (2/3) (2/3)\\times p(\\text{rain}) + (1/3) (1/3) (1/3)\\times p(\\text{no rain})} \\\\\n",
    "=\\frac{(8/27)\\times p(\\text{rain})}{(8/27)\\times p(\\text{rain}) + (1/27)\\times p(\\text{no rain})}$$\n",
    "\n",
    "Suppose that rain/no rain is a 50-50 chance type of a scenario. Thus $p(\\text{rain}) = p(\\text{no rain}) = 0.5$. Thus,\n",
    "\n",
    "$$p(\\text{rain}|~ yes, yes, yes) = \\frac{(8/27)(1/2)}{(8/27)(1/2) + (1/27)(1/2)} = \\frac{(8/27)}{(9/27)} = \\frac{8}{9} = 0.888\\dots$$"
   ]
  },
  {
   "cell_type": "code",
   "execution_count": 4,
   "metadata": {},
   "outputs": [
    {
     "name": "stdout",
     "output_type": "stream",
     "text": [
      "probability of rain given 3 yes's = 0.8888888888888888\n"
     ]
    }
   ],
   "source": [
    "# notice we can use BayesCoinToss since we have \n",
    "# a binary outcome (rain/no rain) and sequence of \n",
    "# three rain outcomes\n",
    "\n",
    "PRIOR1 = 1/2\n",
    "PROB_HEAD1 = 2/3\n",
    "PRIOR2 = 1/2\n",
    "PROB_HEAD2 = 1/3\n",
    "N = 3\n",
    "\n",
    "bayes = BayesCoinToss(PRIOR1, PROB_HEAD1, PRIOR2, PROB_HEAD2, N)\n",
    "posterior = bayes.posterior()\n",
    "print(\"probability of rain given\", N, \"yes's =\", posterior)"
   ]
  }
 ],
 "metadata": {
  "kernelspec": {
   "display_name": "Python 3",
   "language": "python",
   "name": "python3"
  },
  "language_info": {
   "codemirror_mode": {
    "name": "ipython",
    "version": 3
   },
   "file_extension": ".py",
   "mimetype": "text/x-python",
   "name": "python",
   "nbconvert_exporter": "python",
   "pygments_lexer": "ipython3",
   "version": "3.6.3"
  }
 },
 "nbformat": 4,
 "nbformat_minor": 2
}
